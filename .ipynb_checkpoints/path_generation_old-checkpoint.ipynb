{
 "cells": [
  {
   "cell_type": "markdown",
   "metadata": {},
   "source": [
    "## Step one: load map image"
   ]
  },
  {
   "cell_type": "code",
   "execution_count": 3,
   "metadata": {},
   "outputs": [
    {
     "name": "stderr",
     "output_type": "stream",
     "text": [
      "/home/marcel/anaconda3/lib/python3.7/site-packages/ipykernel_launcher.py:11: YAMLLoadWarning: calling yaml.load() without Loader=... is deprecated, as the default Loader is unsafe. Please read https://msg.pyyaml.org/load for full details.\n",
      "  # This is added back by InteractiveShellApp.init_path()\n"
     ]
    },
    {
     "name": "stdout",
     "output_type": "stream",
     "text": [
      "{'image': 'map_name.pgm', 'resolution': 0.05, 'origin': [-4.945325, -9.076535, 0.0], 'negate': 0, 'occupied_thresh': 0.65, 'free_thresh': 0.196}\n",
      "(265, 398)\n"
     ]
    },
    {
     "data": {
      "image/png": "[encoded data removed]",
      "text/plain": [
       "<Figure size 432x288 with 1 Axes>"
      ]
     },
     "metadata": {
      "needs_background": "light"
     },
     "output_type": "display_data"
    }
   ],
   "source": [
    "import matplotlib.pyplot as plt\n",
    "import matplotlib.image as mpimg\n",
    "from yaml import load, dump\n",
    "import skimage\n",
    "import os\n",
    "\n",
    "MAPS_DIR = '/home/marcel/map_data/s6_6grudnia/maps'\n",
    "\n",
    "map_name = 'map_name'\n",
    "with open(os.path.join(MAPS_DIR, map_name+'.yaml'), 'r') as f:\n",
    "    map_meta = load(f)\n",
    "\n",
    "print(map_meta)\n",
    "map_img = mpimg.imread(os.path.join(MAPS_DIR, map_meta['image']))\n",
    "print(map_img.shape)\n",
    "\n",
    "if map_meta['negate']:\n",
    "    p = map_img / 255.0\n",
    "else:\n",
    "    p = (255 - map_img) / 255.0\n",
    "\n",
    "plt.imshow(p, cmap='gray')\n",
    "plt.show()"
   ]
  },
  {
   "cell_type": "markdown",
   "metadata": {},
   "source": [
    "## Step two: identify occupied and free cells"
   ]
  },
  {
   "cell_type": "code",
   "execution_count": 4,
   "metadata": {},
   "outputs": [
    {
     "data": {
      "image/png": "[encoded data removed]",
      "text/plain": [
       "<Figure size 432x288 with 1 Axes>"
      ]
     },
     "metadata": {
      "needs_background": "light"
     },
     "output_type": "display_data"
    }
   ],
   "source": [
    "import numpy as np\n",
    "\n",
    "occupied = np.zeros_like(map_img)\n",
    "free     = np.zeros_like(map_img)\n",
    "\n",
    "occupied[p > map_meta['occupied_thresh']] = 1.0\n",
    "free[p < map_meta['free_thresh']] = 1.0\n",
    "\n",
    "B = np.argwhere(occupied | free)\n",
    "(ystart, xstart), (ystop, xstop) = B.min(0), B.max(0) + 1\n",
    "\n",
    "free_trim = free[ystart:ystop, xstart:xstop]\n",
    "\n",
    "plt.imshow(free_trim, cmap='gray')\n",
    "plt.show()"
   ]
  },
  {
   "cell_type": "code",
   "execution_count": 5,
   "metadata": {},
   "outputs": [
    {
     "data": {
      "image/png": "[encoded data removed]",
      "text/plain": [
       "<Figure size 432x288 with 1 Axes>"
      ]
     },
     "metadata": {
      "needs_background": "light"
     },
     "output_type": "display_data"
    }
   ],
   "source": [
    "from skimage.morphology import binary_dilation\n",
    "\n",
    "occupied_trim = occupied[ystart:ystop, xstart:xstop]\n",
    "\n",
    "for x in range(5):\n",
    "    occupied_trim = binary_dilation(occupied_trim)\n",
    "\n",
    "free_trim = free_trim & (~occupied_trim)\n",
    "\n",
    "plt.imshow(occupied_trim, cmap='gray')\n",
    "plt.show()"
   ]
  },
  {
   "cell_type": "markdown",
   "metadata": {},
   "source": [
    "## Step three: identify center line"
   ]
  },
  {
   "cell_type": "code",
   "execution_count": 8,
   "metadata": {},
   "outputs": [
    {
     "ename": "ValueError",
     "evalue": "Integer argument required but received (132.5, 199.0), check inputs.",
     "output_type": "error",
     "traceback": [
      "\u001b[0;31m---------------------------------------------------------------------------\u001b[0m",
      "\u001b[0;31mAssertionError\u001b[0m                            Traceback (most recent call last)",
      "\u001b[0;32m~/anaconda3/lib/python3.7/site-packages/skimage/_shared/utils.py\u001b[0m in \u001b[0;36msafe_as_int\u001b[0;34m(val, atol)\u001b[0m\n\u001b[1;32m    145\u001b[0m     \u001b[0;32mtry\u001b[0m\u001b[0;34m:\u001b[0m\u001b[0;34m\u001b[0m\u001b[0;34m\u001b[0m\u001b[0m\n\u001b[0;32m--> 146\u001b[0;31m         \u001b[0mnp\u001b[0m\u001b[0;34m.\u001b[0m\u001b[0mtesting\u001b[0m\u001b[0;34m.\u001b[0m\u001b[0massert_allclose\u001b[0m\u001b[0;34m(\u001b[0m\u001b[0mmod\u001b[0m\u001b[0;34m,\u001b[0m \u001b[0;36m0\u001b[0m\u001b[0;34m,\u001b[0m \u001b[0matol\u001b[0m\u001b[0;34m=\u001b[0m\u001b[0matol\u001b[0m\u001b[0;34m)\u001b[0m\u001b[0;34m\u001b[0m\u001b[0;34m\u001b[0m\u001b[0m\n\u001b[0m\u001b[1;32m    147\u001b[0m     \u001b[0;32mexcept\u001b[0m \u001b[0mAssertionError\u001b[0m\u001b[0;34m:\u001b[0m\u001b[0;34m\u001b[0m\u001b[0;34m\u001b[0m\u001b[0m\n",
      "\u001b[0;32m~/anaconda3/lib/python3.7/site-packages/numpy/testing/_private/utils.py\u001b[0m in \u001b[0;36massert_allclose\u001b[0;34m(actual, desired, rtol, atol, equal_nan, err_msg, verbose)\u001b[0m\n\u001b[1;32m   1514\u001b[0m     assert_array_compare(compare, actual, desired, err_msg=str(err_msg),\n\u001b[0;32m-> 1515\u001b[0;31m                          verbose=verbose, header=header, equal_nan=equal_nan)\n\u001b[0m\u001b[1;32m   1516\u001b[0m \u001b[0;34m\u001b[0m\u001b[0m\n",
      "\u001b[0;32m~/anaconda3/lib/python3.7/site-packages/numpy/testing/_private/utils.py\u001b[0m in \u001b[0;36massert_array_compare\u001b[0;34m(comparison, x, y, err_msg, verbose, header, precision, equal_nan, equal_inf)\u001b[0m\n\u001b[1;32m    840\u001b[0m                                 names=('x', 'y'), precision=precision)\n\u001b[0;32m--> 841\u001b[0;31m             \u001b[0;32mraise\u001b[0m \u001b[0mAssertionError\u001b[0m\u001b[0;34m(\u001b[0m\u001b[0mmsg\u001b[0m\u001b[0;34m)\u001b[0m\u001b[0;34m\u001b[0m\u001b[0;34m\u001b[0m\u001b[0m\n\u001b[0m\u001b[1;32m    842\u001b[0m     \u001b[0;32mexcept\u001b[0m \u001b[0mValueError\u001b[0m\u001b[0;34m:\u001b[0m\u001b[0;34m\u001b[0m\u001b[0;34m\u001b[0m\u001b[0m\n",
      "\u001b[0;31mAssertionError\u001b[0m: \nNot equal to tolerance rtol=1e-07, atol=0.001\n\nMismatch: 50%\nMax absolute difference: 0.5\nMax relative difference: inf\n x: array([0.5, 0. ])\n y: array(0)",
      "\nDuring handling of the above exception, another exception occurred:\n",
      "\u001b[0;31mValueError\u001b[0m                                Traceback (most recent call last)",
      "\u001b[0;32m<ipython-input-8-89899c17e0f8>\u001b[0m in \u001b[0;36m<module>\u001b[0;34m\u001b[0m\n\u001b[1;32m      3\u001b[0m \u001b[0;34m\u001b[0m\u001b[0m\n\u001b[1;32m      4\u001b[0m img_resized = resize(map_img, (map_img.shape[0] / 2, map_img.shape[1] / 2),\n\u001b[0;32m----> 5\u001b[0;31m                        anti_aliasing=False)\n\u001b[0m\u001b[1;32m      6\u001b[0m \u001b[0mfree_trim\u001b[0m \u001b[0;34m=\u001b[0m \u001b[0mmpimg\u001b[0m\u001b[0;34m.\u001b[0m\u001b[0mimread\u001b[0m\u001b[0;34m(\u001b[0m\u001b[0mos\u001b[0m\u001b[0;34m.\u001b[0m\u001b[0mpath\u001b[0m\u001b[0;34m.\u001b[0m\u001b[0mjoin\u001b[0m\u001b[0;34m(\u001b[0m\u001b[0mMAPS_DIR\u001b[0m\u001b[0;34m,\u001b[0m \u001b[0mmap_meta\u001b[0m\u001b[0;34m[\u001b[0m\u001b[0;34m'image'\u001b[0m\u001b[0;34m]\u001b[0m\u001b[0;34m)\u001b[0m\u001b[0;34m)\u001b[0m\u001b[0;34m\u001b[0m\u001b[0;34m\u001b[0m\u001b[0m\n\u001b[1;32m      7\u001b[0m \u001b[0mskeleton\u001b[0m \u001b[0;34m=\u001b[0m \u001b[0mskeletonize\u001b[0m\u001b[0;34m(\u001b[0m\u001b[0mfree_trim\u001b[0m\u001b[0;34m)\u001b[0m\u001b[0;34m\u001b[0m\u001b[0;34m\u001b[0m\u001b[0m\n",
      "\u001b[0;32m~/anaconda3/lib/python3.7/site-packages/skimage/transform/_warps.py\u001b[0m in \u001b[0;36mresize\u001b[0;34m(image, output_shape, order, mode, cval, clip, preserve_range, anti_aliasing, anti_aliasing_sigma)\u001b[0m\n\u001b[1;32m    177\u001b[0m         out = warp(image, tform, output_shape=output_shape, order=order,\n\u001b[1;32m    178\u001b[0m                    \u001b[0mmode\u001b[0m\u001b[0;34m=\u001b[0m\u001b[0mmode\u001b[0m\u001b[0;34m,\u001b[0m \u001b[0mcval\u001b[0m\u001b[0;34m=\u001b[0m\u001b[0mcval\u001b[0m\u001b[0;34m,\u001b[0m \u001b[0mclip\u001b[0m\u001b[0;34m=\u001b[0m\u001b[0mclip\u001b[0m\u001b[0;34m,\u001b[0m\u001b[0;34m\u001b[0m\u001b[0;34m\u001b[0m\u001b[0m\n\u001b[0;32m--> 179\u001b[0;31m                    preserve_range=preserve_range)\n\u001b[0m\u001b[1;32m    180\u001b[0m \u001b[0;34m\u001b[0m\u001b[0m\n\u001b[1;32m    181\u001b[0m     \u001b[0;32melse\u001b[0m\u001b[0;34m:\u001b[0m  \u001b[0;31m# n-dimensional interpolation\u001b[0m\u001b[0;34m\u001b[0m\u001b[0;34m\u001b[0m\u001b[0m\n",
      "\u001b[0;32m~/anaconda3/lib/python3.7/site-packages/skimage/transform/_warps.py\u001b[0m in \u001b[0;36mwarp\u001b[0;34m(image, inverse_map, map_args, output_shape, order, mode, cval, clip, preserve_range)\u001b[0m\n\u001b[1;32m    824\u001b[0m         \u001b[0moutput_shape\u001b[0m \u001b[0;34m=\u001b[0m \u001b[0minput_shape\u001b[0m\u001b[0;34m\u001b[0m\u001b[0;34m\u001b[0m\u001b[0m\n\u001b[1;32m    825\u001b[0m     \u001b[0;32melse\u001b[0m\u001b[0;34m:\u001b[0m\u001b[0;34m\u001b[0m\u001b[0;34m\u001b[0m\u001b[0m\n\u001b[0;32m--> 826\u001b[0;31m         \u001b[0moutput_shape\u001b[0m \u001b[0;34m=\u001b[0m \u001b[0msafe_as_int\u001b[0m\u001b[0;34m(\u001b[0m\u001b[0moutput_shape\u001b[0m\u001b[0;34m)\u001b[0m\u001b[0;34m\u001b[0m\u001b[0;34m\u001b[0m\u001b[0m\n\u001b[0m\u001b[1;32m    827\u001b[0m \u001b[0;34m\u001b[0m\u001b[0m\n\u001b[1;32m    828\u001b[0m     \u001b[0mwarped\u001b[0m \u001b[0;34m=\u001b[0m \u001b[0;32mNone\u001b[0m\u001b[0;34m\u001b[0m\u001b[0;34m\u001b[0m\u001b[0m\n",
      "\u001b[0;32m~/anaconda3/lib/python3.7/site-packages/skimage/_shared/utils.py\u001b[0m in \u001b[0;36msafe_as_int\u001b[0;34m(val, atol)\u001b[0m\n\u001b[1;32m    147\u001b[0m     \u001b[0;32mexcept\u001b[0m \u001b[0mAssertionError\u001b[0m\u001b[0;34m:\u001b[0m\u001b[0;34m\u001b[0m\u001b[0;34m\u001b[0m\u001b[0m\n\u001b[1;32m    148\u001b[0m         raise ValueError(\"Integer argument required but received \"\n\u001b[0;32m--> 149\u001b[0;31m                          \"{0}, check inputs.\".format(val))\n\u001b[0m\u001b[1;32m    150\u001b[0m \u001b[0;34m\u001b[0m\u001b[0m\n\u001b[1;32m    151\u001b[0m     \u001b[0;32mreturn\u001b[0m \u001b[0mnp\u001b[0m\u001b[0;34m.\u001b[0m\u001b[0mround\u001b[0m\u001b[0;34m(\u001b[0m\u001b[0mval\u001b[0m\u001b[0;34m)\u001b[0m\u001b[0;34m.\u001b[0m\u001b[0mastype\u001b[0m\u001b[0;34m(\u001b[0m\u001b[0mnp\u001b[0m\u001b[0;34m.\u001b[0m\u001b[0mint64\u001b[0m\u001b[0;34m)\u001b[0m\u001b[0;34m\u001b[0m\u001b[0;34m\u001b[0m\u001b[0m\n",
      "\u001b[0;31mValueError\u001b[0m: Integer argument required but received (132.5, 199.0), check inputs."
     ]
    }
   ],
   "source": [
    "from skimage.morphology import binary_erosion, skeletonize, thin\n",
    "from skimage.transform import resize\n",
    "\n",
    "img_resized = resize(map_img, (map_img.shape[0] / 2, map_img.shape[1] / 2),\n",
    "                       anti_aliasing=False)\n",
    "free_trim = mpimg.imread(os.path.join(MAPS_DIR, map_meta['image']))\n",
    "skeleton = skeletonize(free_trim)\n",
    "\n",
    "plt.figure(figsize=(15, 15))\n",
    "plt.imshow(free_trim, cmap='gray')\n",
    "plt.show()"
   ]
  },
  {
   "cell_type": "markdown",
   "metadata": {},
   "source": [
    "## Step four: extract pixels belonging to the closed circuit"
   ]
  },
  {
   "cell_type": "code",
   "execution_count": 5,
   "metadata": {},
   "outputs": [
    {
     "data": {
      "image/png": "[encoded data removed]",
      "text/plain": [
       "<Figure size 2160x2160 with 1 Axes>"
      ]
     },
     "metadata": {
      "needs_background": "light"
     },
     "output_type": "display_data"
    },
    {
     "name": "stdout",
     "output_type": "stream",
     "text": [
      "50\n"
     ]
    }
   ],
   "source": [
    "from itertools import permutations\n",
    "import sys\n",
    "sys.setrecursionlimit(999999999)\n",
    "\n",
    "OFFSETS = [-1, 0, 1]\n",
    "NEIGHBORHOOD = [(dy, dx) for dx in OFFSETS for dy in OFFSETS]\n",
    "\n",
    "available = np.copy(skeleton).astype(np.bool)\n",
    "\n",
    "def dfs(point, target, available, path, remaining_steps=15):\n",
    "    x = point[0]\n",
    "    y = point[1]\n",
    "    \n",
    "    if (remaining_steps == 0) and (point == target).all(): return True\n",
    "    \n",
    "    # Lower & upper bounds\n",
    "    if x < 0 or x >= available.shape[1]: return False\n",
    "    if y < 0 or y >= available.shape[0]: return False\n",
    "    \n",
    "    if not available[y, x]: return False\n",
    "    \n",
    "    remaining_steps = max(0, remaining_steps-1)\n",
    "    \n",
    "    available[y, x] = False\n",
    "    path.append(point)\n",
    "    \n",
    "    for dx, dy in NEIGHBORHOOD:\n",
    "        child_x = x + dx\n",
    "        child_y = y + dy\n",
    "        \n",
    "        if dfs((child_x, child_y), target, available, path, remaining_steps):\n",
    "            return True\n",
    "\n",
    "    path.pop()\n",
    "    return False\n",
    "\n",
    "starting_points = np.transpose(np.nonzero(available))\n",
    "for starting_point in starting_points:\n",
    "    path = []\n",
    "    \n",
    "    if dfs(starting_point[::-1], starting_point[::-1], available, path):\n",
    "        break\n",
    "\n",
    "path = path[::-8]        \n",
    "    \n",
    "path_img = np.zeros_like(skeleton)\n",
    "for point in path:\n",
    "    path_img[point[1], point[0]] = 1\n",
    "\n",
    "plt.figure(figsize=(30, 30))\n",
    "plt.imshow(path_img, cmap='gray')\n",
    "plt.show()\n",
    "\n",
    "print(len(path))"
   ]
  },
  {
   "cell_type": "markdown",
   "metadata": {},
   "source": [
    "## Step six: Save results to file"
   ]
  },
  {
   "cell_type": "code",
   "execution_count": 6,
   "metadata": {},
   "outputs": [],
   "source": [
    "import pickle\n",
    "\n",
    "data = {}\n",
    "\n",
    "res = map_meta['resolution']\n",
    "\n",
    "data['resolution'] = res\n",
    "data['origin'] = [\n",
    "    map_meta['origin'][0] + xstart * res,\n",
    "    map_meta['origin'][1] + (map_img.shape[0] - ystop - 1) * res\n",
    "]\n",
    "data['pathpoints'] = [\n",
    "    (data['origin'][0] + x*res, data['origin'][1] + (path_img.shape[0] - y - 1)*res)\n",
    "    for x, y in path\n",
    "]\n",
    "\n",
    "with open(map_name+'.pkl', 'wb') as f:\n",
    "    pickle.dump(data, f, 2)"
   ]
  },
  {
   "cell_type": "code",
   "execution_count": null,
   "metadata": {},
   "outputs": [],
   "source": []
  }
 ],
 "metadata": {
  "kernelspec": {
   "display_name": "Python 3",
   "language": "python",
   "name": "python3"
  },
  "language_info": {
   "codemirror_mode": {
    "name": "ipython",
    "version": 3
   },
   "file_extension": ".py",
   "mimetype": "text/x-python",
   "name": "python",
   "nbconvert_exporter": "python",
   "pygments_lexer": "ipython3",
   "version": "3.7.4"
  }
 },
 "nbformat": 4,
 "nbformat_minor": 2
}
