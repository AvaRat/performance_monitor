{
 "cells": [
  {
   "cell_type": "code",
   "execution_count": 33,
   "metadata": {},
   "outputs": [
    {
     "data": {
      "text/plain": [
       "[<matplotlib.lines.Line2D at 0x7fc65a870748>]"
      ]
     },
     "execution_count": 33,
     "metadata": {},
     "output_type": "execute_result"
    },
    {
     "data": {
      "image/png": "[encoded data removed]",
      "text/plain": [
       "<Figure size 432x288 with 1 Axes>"
      ]
     },
     "metadata": {
      "needs_background": "light"
     },
     "output_type": "display_data"
    }
   ],
   "source": [
    "import os\n",
    "import pandas as pd\n",
    "import numpy as np\n",
    "import matplotlib.pyplot as plt\n",
    "from pickle import load\n",
    "\n",
    "file_path = '/home/marcel/ros_ws/analytics_ws/src/performance_monitor/data/from_bag.pkl'\n",
    "\n",
    "with open(file_path, 'rb') as f:\n",
    "    data = load(f)\n",
    "speed = np.array(data['speed'])\n",
    "time = np.array(data['time'])\n",
    "time = time - time[0]\n",
    "plt.plot(time, speed)"
   ]
  },
  {
   "cell_type": "code",
   "execution_count": 41,
   "metadata": {},
   "outputs": [
    {
     "data": {
      "text/plain": [
       "[-1.6028858423233032,\n",
       " -1.8951548337936401,\n",
       " -2.2262129999999996,\n",
       " -2.5262129999999994,\n",
       " -2.826212999999999,\n",
       " -3.2262129999999996,\n",
       " -3.595036506652832,\n",
       " -3.9291489124298096,\n",
       " -4.126212999999999,\n",
       " -4.39757776260376,\n",
       " -4.677793979644775,\n",
       " -4.9762129999999996,\n",
       " -5.160888195037842,\n",
       " -5.2262129999999996,\n",
       " -5.126212999999999,\n",
       " -5.026212999999999,\n",
       " -4.826212999999999,\n",
       " -4.580545425415039,\n",
       " -4.214028835296631,\n",
       " -3.813189744949341,\n",
       " -3.4208855628967285,\n",
       " -3.0454490184783936,\n",
       " -2.7384185791015625,\n",
       " -2.474008321762085,\n",
       " -2.291856050491333,\n",
       " -2.252589225769043,\n",
       " -2.2852156162261963,\n",
       " -2.3156280517578125,\n",
       " -2.376212999999999,\n",
       " -2.376212999999999,\n",
       " -2.2762129999999994,\n",
       " -1.9762129999999996,\n",
       " -1.5762129999999992,\n",
       " -1.1762129999999988,\n",
       " -0.7762129999999985,\n",
       " -0.37621299999999813,\n",
       " 0.023787000000000447,\n",
       " 0.4237870000000008,\n",
       " 0.8237870000000012,\n",
       " 1.1737870000000008,\n",
       " 1.3237870000000012,\n",
       " 1.2737870000000004,\n",
       " 1.1737870000000008,\n",
       " 0.9237870000000008,\n",
       " 0.5237870000000004,\n",
       " 0.12378700000000187,\n",
       " -0.2762129999999985,\n",
       " -0.6762129999999988,\n",
       " -1.0388429164886475,\n",
       " -1.335326075553894]"
      ]
     },
     "execution_count": 41,
     "metadata": {},
     "output_type": "execute_result"
    }
   ],
   "source": [
    "x_path = [x['x'] for x in data['path']]\n",
    "y_path = [y['y'] for y in data['path']]\n",
    "x_path"
   ]
  }
 ],
 "metadata": {
  "kernelspec": {
   "display_name": "Python 3",
   "language": "python",
   "name": "python3"
  },
  "language_info": {
   "codemirror_mode": {
    "name": "ipython",
    "version": 3
   },
   "file_extension": ".py",
   "mimetype": "text/x-python",
   "name": "python",
   "nbconvert_exporter": "python",
   "pygments_lexer": "ipython3",
   "version": "3.7.3"
  }
 },
 "nbformat": 4,
 "nbformat_minor": 2
}
